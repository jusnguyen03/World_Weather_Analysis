{
 "cells": [
  {
   "cell_type": "code",
   "execution_count": 1,
   "metadata": {},
   "outputs": [],
   "source": [
    "# Import the dependencies.\n",
    "import pandas as pd\n",
    "import gmaps\n",
    "import requests\n",
    "from citipy import citipy\n",
    "# Import the API key.\n",
    "from config import g_key\n",
    "\n",
    "# Import the requests library.\n",
    "import requests\n",
    "\n",
    "from datetime import datetime\n",
    "import time\n",
    "from scipy.stats import linregress"
   ]
  },
  {
   "cell_type": "code",
   "execution_count": 2,
   "metadata": {},
   "outputs": [
    {
     "data": {
      "text/html": [
       "<div>\n",
       "<style scoped>\n",
       "    .dataframe tbody tr th:only-of-type {\n",
       "        vertical-align: middle;\n",
       "    }\n",
       "\n",
       "    .dataframe tbody tr th {\n",
       "        vertical-align: top;\n",
       "    }\n",
       "\n",
       "    .dataframe thead th {\n",
       "        text-align: right;\n",
       "    }\n",
       "</style>\n",
       "<table border=\"1\" class=\"dataframe\">\n",
       "  <thead>\n",
       "    <tr style=\"text-align: right;\">\n",
       "      <th></th>\n",
       "      <th>City</th>\n",
       "      <th>Country</th>\n",
       "      <th>Max Temp</th>\n",
       "      <th>Current Description</th>\n",
       "      <th>Lat</th>\n",
       "      <th>Lng</th>\n",
       "      <th>Hotel Name</th>\n",
       "    </tr>\n",
       "    <tr>\n",
       "      <th>City_ID</th>\n",
       "      <th></th>\n",
       "      <th></th>\n",
       "      <th></th>\n",
       "      <th></th>\n",
       "      <th></th>\n",
       "      <th></th>\n",
       "      <th></th>\n",
       "    </tr>\n",
       "  </thead>\n",
       "  <tbody>\n",
       "    <tr>\n",
       "      <th>2</th>\n",
       "      <td>Faanui</td>\n",
       "      <td>PF</td>\n",
       "      <td>81.45</td>\n",
       "      <td>overcast clouds</td>\n",
       "      <td>-16.48</td>\n",
       "      <td>-151.75</td>\n",
       "      <td>Bora-Bora Pearl Beach Resort &amp; Spa</td>\n",
       "    </tr>\n",
       "    <tr>\n",
       "      <th>3</th>\n",
       "      <td>Rikitea</td>\n",
       "      <td>PF</td>\n",
       "      <td>77.20</td>\n",
       "      <td>broken clouds</td>\n",
       "      <td>-23.12</td>\n",
       "      <td>-134.97</td>\n",
       "      <td>Pension Maro'i</td>\n",
       "    </tr>\n",
       "    <tr>\n",
       "      <th>4</th>\n",
       "      <td>Cape Town</td>\n",
       "      <td>ZA</td>\n",
       "      <td>68.00</td>\n",
       "      <td>few clouds</td>\n",
       "      <td>-33.93</td>\n",
       "      <td>18.42</td>\n",
       "      <td>Southern Sun Waterfront Cape Town</td>\n",
       "    </tr>\n",
       "    <tr>\n",
       "      <th>5</th>\n",
       "      <td>Sampit</td>\n",
       "      <td>ID</td>\n",
       "      <td>75.43</td>\n",
       "      <td>overcast clouds</td>\n",
       "      <td>-2.54</td>\n",
       "      <td>112.95</td>\n",
       "      <td>Aquarius Boutique Hotel Sampit</td>\n",
       "    </tr>\n",
       "    <tr>\n",
       "      <th>6</th>\n",
       "      <td>Biltine</td>\n",
       "      <td>TD</td>\n",
       "      <td>62.91</td>\n",
       "      <td>clear sky</td>\n",
       "      <td>14.53</td>\n",
       "      <td>20.93</td>\n",
       "      <td>Hôtel Trois Étoiles de Biltine</td>\n",
       "    </tr>\n",
       "    <tr>\n",
       "      <th>8</th>\n",
       "      <td>Busselton</td>\n",
       "      <td>AU</td>\n",
       "      <td>57.00</td>\n",
       "      <td>clear sky</td>\n",
       "      <td>-33.64</td>\n",
       "      <td>115.35</td>\n",
       "      <td>Observatory Guest House</td>\n",
       "    </tr>\n",
       "    <tr>\n",
       "      <th>9</th>\n",
       "      <td>Adrar</td>\n",
       "      <td>DZ</td>\n",
       "      <td>50.00</td>\n",
       "      <td>overcast clouds</td>\n",
       "      <td>27.87</td>\n",
       "      <td>-0.29</td>\n",
       "      <td>s.e.t.setif entenne d'adrar</td>\n",
       "    </tr>\n",
       "    <tr>\n",
       "      <th>10</th>\n",
       "      <td>Lebu</td>\n",
       "      <td>ET</td>\n",
       "      <td>59.00</td>\n",
       "      <td>few clouds</td>\n",
       "      <td>8.96</td>\n",
       "      <td>38.73</td>\n",
       "      <td>Dah-Lak Guest House</td>\n",
       "    </tr>\n",
       "    <tr>\n",
       "      <th>11</th>\n",
       "      <td>Quelimane</td>\n",
       "      <td>MZ</td>\n",
       "      <td>80.51</td>\n",
       "      <td>overcast clouds</td>\n",
       "      <td>-17.88</td>\n",
       "      <td>36.89</td>\n",
       "      <td>Hotel Flamingo</td>\n",
       "    </tr>\n",
       "    <tr>\n",
       "      <th>14</th>\n",
       "      <td>Port Alfred</td>\n",
       "      <td>ZA</td>\n",
       "      <td>72.00</td>\n",
       "      <td>overcast clouds</td>\n",
       "      <td>-33.59</td>\n",
       "      <td>26.89</td>\n",
       "      <td>The Halyards Hotel</td>\n",
       "    </tr>\n",
       "  </tbody>\n",
       "</table>\n",
       "</div>"
      ],
      "text/plain": [
       "                City Country  Max Temp Current Description    Lat     Lng  \\\n",
       "City_ID                                                                     \n",
       "2             Faanui      PF     81.45     overcast clouds -16.48 -151.75   \n",
       "3            Rikitea      PF     77.20       broken clouds -23.12 -134.97   \n",
       "4          Cape Town      ZA     68.00          few clouds -33.93   18.42   \n",
       "5             Sampit      ID     75.43     overcast clouds  -2.54  112.95   \n",
       "6            Biltine      TD     62.91           clear sky  14.53   20.93   \n",
       "8          Busselton      AU     57.00           clear sky -33.64  115.35   \n",
       "9              Adrar      DZ     50.00     overcast clouds  27.87   -0.29   \n",
       "10              Lebu      ET     59.00          few clouds   8.96   38.73   \n",
       "11         Quelimane      MZ     80.51     overcast clouds -17.88   36.89   \n",
       "14       Port Alfred      ZA     72.00     overcast clouds -33.59   26.89   \n",
       "\n",
       "                                 Hotel Name  \n",
       "City_ID                                      \n",
       "2        Bora-Bora Pearl Beach Resort & Spa  \n",
       "3                            Pension Maro'i  \n",
       "4         Southern Sun Waterfront Cape Town  \n",
       "5            Aquarius Boutique Hotel Sampit  \n",
       "6            Hôtel Trois Étoiles de Biltine  \n",
       "8                   Observatory Guest House  \n",
       "9               s.e.t.setif entenne d'adrar  \n",
       "10                      Dah-Lak Guest House  \n",
       "11                           Hotel Flamingo  \n",
       "14                       The Halyards Hotel  "
      ]
     },
     "execution_count": 2,
     "metadata": {},
     "output_type": "execute_result"
    }
   ],
   "source": [
    "# Store the CSV you saved created in part two into a DataFrame.\n",
    "vacationItinerary_df = pd.read_csv(\"weather_data/WeatherPy_vacation.csv\", index_col = 0)\n",
    "vacationItinerary_df.head(10)"
   ]
  },
  {
   "cell_type": "code",
   "execution_count": 3,
   "metadata": {},
   "outputs": [],
   "source": [
    "# Configure gmaps to use your Google API key.\n",
    "gmaps.configure(api_key=g_key)"
   ]
  },
  {
   "cell_type": "code",
   "execution_count": 4,
   "metadata": {},
   "outputs": [
    {
     "data": {
      "text/html": [
       "<div>\n",
       "<style scoped>\n",
       "    .dataframe tbody tr th:only-of-type {\n",
       "        vertical-align: middle;\n",
       "    }\n",
       "\n",
       "    .dataframe tbody tr th {\n",
       "        vertical-align: top;\n",
       "    }\n",
       "\n",
       "    .dataframe thead th {\n",
       "        text-align: right;\n",
       "    }\n",
       "</style>\n",
       "<table border=\"1\" class=\"dataframe\">\n",
       "  <thead>\n",
       "    <tr style=\"text-align: right;\">\n",
       "      <th></th>\n",
       "      <th>City</th>\n",
       "      <th>Country</th>\n",
       "      <th>Max Temp</th>\n",
       "      <th>Current Description</th>\n",
       "      <th>Lat</th>\n",
       "      <th>Lng</th>\n",
       "      <th>Hotel Name</th>\n",
       "    </tr>\n",
       "    <tr>\n",
       "      <th>City_ID</th>\n",
       "      <th></th>\n",
       "      <th></th>\n",
       "      <th></th>\n",
       "      <th></th>\n",
       "      <th></th>\n",
       "      <th></th>\n",
       "      <th></th>\n",
       "    </tr>\n",
       "  </thead>\n",
       "  <tbody>\n",
       "    <tr>\n",
       "      <th>57</th>\n",
       "      <td>Shuiji</td>\n",
       "      <td>CN</td>\n",
       "      <td>54.16</td>\n",
       "      <td>broken clouds</td>\n",
       "      <td>27.42</td>\n",
       "      <td>118.34</td>\n",
       "      <td>Century Hotel</td>\n",
       "    </tr>\n",
       "  </tbody>\n",
       "</table>\n",
       "</div>"
      ],
      "text/plain": [
       "           City Country  Max Temp Current Description    Lat     Lng  \\\n",
       "City_ID                                                                \n",
       "57       Shuiji      CN     54.16       broken clouds  27.42  118.34   \n",
       "\n",
       "            Hotel Name  \n",
       "City_ID                 \n",
       "57       Century Hotel  "
      ]
     },
     "execution_count": 4,
     "metadata": {},
     "output_type": "execute_result"
    }
   ],
   "source": [
    "#filter four picked cities (1 of 4)\n",
    "\n",
    "Shuiji_df = vacationItinerary_df[vacationItinerary_df[\"City\"]== \"Shuiji\"]\n",
    "Shuiji_df"
   ]
  },
  {
   "cell_type": "code",
   "execution_count": 5,
   "metadata": {},
   "outputs": [
    {
     "data": {
      "text/html": [
       "<div>\n",
       "<style scoped>\n",
       "    .dataframe tbody tr th:only-of-type {\n",
       "        vertical-align: middle;\n",
       "    }\n",
       "\n",
       "    .dataframe tbody tr th {\n",
       "        vertical-align: top;\n",
       "    }\n",
       "\n",
       "    .dataframe thead th {\n",
       "        text-align: right;\n",
       "    }\n",
       "</style>\n",
       "<table border=\"1\" class=\"dataframe\">\n",
       "  <thead>\n",
       "    <tr style=\"text-align: right;\">\n",
       "      <th></th>\n",
       "      <th>City</th>\n",
       "      <th>Country</th>\n",
       "      <th>Max Temp</th>\n",
       "      <th>Current Description</th>\n",
       "      <th>Lat</th>\n",
       "      <th>Lng</th>\n",
       "      <th>Hotel Name</th>\n",
       "    </tr>\n",
       "    <tr>\n",
       "      <th>City_ID</th>\n",
       "      <th></th>\n",
       "      <th></th>\n",
       "      <th></th>\n",
       "      <th></th>\n",
       "      <th></th>\n",
       "      <th></th>\n",
       "      <th></th>\n",
       "    </tr>\n",
       "  </thead>\n",
       "  <tbody>\n",
       "    <tr>\n",
       "      <th>525</th>\n",
       "      <td>Dongsheng</td>\n",
       "      <td>CN</td>\n",
       "      <td>45.39</td>\n",
       "      <td>overcast clouds</td>\n",
       "      <td>29.72</td>\n",
       "      <td>112.52</td>\n",
       "      <td>Xianghong Hotel</td>\n",
       "    </tr>\n",
       "  </tbody>\n",
       "</table>\n",
       "</div>"
      ],
      "text/plain": [
       "              City Country  Max Temp Current Description    Lat     Lng  \\\n",
       "City_ID                                                                   \n",
       "525      Dongsheng      CN     45.39     overcast clouds  29.72  112.52   \n",
       "\n",
       "              Hotel Name  \n",
       "City_ID                   \n",
       "525      Xianghong Hotel  "
      ]
     },
     "execution_count": 5,
     "metadata": {},
     "output_type": "execute_result"
    }
   ],
   "source": [
    "#filter four picked cities (2 of 4)\n",
    "\n",
    "Dongsheng_df = vacationItinerary_df[vacationItinerary_df[\"City\"]== \"Dongsheng\"]\n",
    "Dongsheng_df"
   ]
  },
  {
   "cell_type": "code",
   "execution_count": 6,
   "metadata": {},
   "outputs": [
    {
     "data": {
      "text/html": [
       "<div>\n",
       "<style scoped>\n",
       "    .dataframe tbody tr th:only-of-type {\n",
       "        vertical-align: middle;\n",
       "    }\n",
       "\n",
       "    .dataframe tbody tr th {\n",
       "        vertical-align: top;\n",
       "    }\n",
       "\n",
       "    .dataframe thead th {\n",
       "        text-align: right;\n",
       "    }\n",
       "</style>\n",
       "<table border=\"1\" class=\"dataframe\">\n",
       "  <thead>\n",
       "    <tr style=\"text-align: right;\">\n",
       "      <th></th>\n",
       "      <th>City</th>\n",
       "      <th>Country</th>\n",
       "      <th>Max Temp</th>\n",
       "      <th>Current Description</th>\n",
       "      <th>Lat</th>\n",
       "      <th>Lng</th>\n",
       "      <th>Hotel Name</th>\n",
       "    </tr>\n",
       "    <tr>\n",
       "      <th>City_ID</th>\n",
       "      <th></th>\n",
       "      <th></th>\n",
       "      <th></th>\n",
       "      <th></th>\n",
       "      <th></th>\n",
       "      <th></th>\n",
       "      <th></th>\n",
       "    </tr>\n",
       "  </thead>\n",
       "  <tbody>\n",
       "    <tr>\n",
       "      <th>280</th>\n",
       "      <td>Huilong</td>\n",
       "      <td>CN</td>\n",
       "      <td>47.28</td>\n",
       "      <td>overcast clouds</td>\n",
       "      <td>31.15</td>\n",
       "      <td>106.5</td>\n",
       "      <td>Huilong Hostel</td>\n",
       "    </tr>\n",
       "  </tbody>\n",
       "</table>\n",
       "</div>"
      ],
      "text/plain": [
       "            City Country  Max Temp Current Description    Lat    Lng  \\\n",
       "City_ID                                                                \n",
       "280      Huilong      CN     47.28     overcast clouds  31.15  106.5   \n",
       "\n",
       "             Hotel Name  \n",
       "City_ID                  \n",
       "280      Huilong Hostel  "
      ]
     },
     "execution_count": 6,
     "metadata": {},
     "output_type": "execute_result"
    }
   ],
   "source": [
    "#filter four picked cities (3 of 4)\n",
    "\n",
    "Huilong_df = vacationItinerary_df[vacationItinerary_df[\"City\"]== \"Huilong\"]\n",
    "Huilong_df"
   ]
  },
  {
   "cell_type": "code",
   "execution_count": 7,
   "metadata": {},
   "outputs": [
    {
     "data": {
      "text/html": [
       "<div>\n",
       "<style scoped>\n",
       "    .dataframe tbody tr th:only-of-type {\n",
       "        vertical-align: middle;\n",
       "    }\n",
       "\n",
       "    .dataframe tbody tr th {\n",
       "        vertical-align: top;\n",
       "    }\n",
       "\n",
       "    .dataframe thead th {\n",
       "        text-align: right;\n",
       "    }\n",
       "</style>\n",
       "<table border=\"1\" class=\"dataframe\">\n",
       "  <thead>\n",
       "    <tr style=\"text-align: right;\">\n",
       "      <th></th>\n",
       "      <th>City</th>\n",
       "      <th>Country</th>\n",
       "      <th>Max Temp</th>\n",
       "      <th>Current Description</th>\n",
       "      <th>Lat</th>\n",
       "      <th>Lng</th>\n",
       "      <th>Hotel Name</th>\n",
       "    </tr>\n",
       "    <tr>\n",
       "      <th>City_ID</th>\n",
       "      <th></th>\n",
       "      <th></th>\n",
       "      <th></th>\n",
       "      <th></th>\n",
       "      <th></th>\n",
       "      <th></th>\n",
       "      <th></th>\n",
       "    </tr>\n",
       "  </thead>\n",
       "  <tbody>\n",
       "    <tr>\n",
       "      <th>535</th>\n",
       "      <td>Enshi</td>\n",
       "      <td>CN</td>\n",
       "      <td>40.03</td>\n",
       "      <td>light rain</td>\n",
       "      <td>30.29</td>\n",
       "      <td>109.48</td>\n",
       "      <td>Moevenpick Enshi</td>\n",
       "    </tr>\n",
       "  </tbody>\n",
       "</table>\n",
       "</div>"
      ],
      "text/plain": [
       "          City Country  Max Temp Current Description    Lat     Lng  \\\n",
       "City_ID                                                               \n",
       "535      Enshi      CN     40.03          light rain  30.29  109.48   \n",
       "\n",
       "               Hotel Name  \n",
       "City_ID                    \n",
       "535      Moevenpick Enshi  "
      ]
     },
     "execution_count": 7,
     "metadata": {},
     "output_type": "execute_result"
    }
   ],
   "source": [
    "#filter four picked cities (4 of 4)\n",
    "\n",
    "Enshi_df = vacationItinerary_df[vacationItinerary_df[\"City\"]== \"Enshi\"]\n",
    "Enshi_df"
   ]
  },
  {
   "cell_type": "code",
   "execution_count": 8,
   "metadata": {},
   "outputs": [
    {
     "data": {
      "text/html": [
       "<div>\n",
       "<style scoped>\n",
       "    .dataframe tbody tr th:only-of-type {\n",
       "        vertical-align: middle;\n",
       "    }\n",
       "\n",
       "    .dataframe tbody tr th {\n",
       "        vertical-align: top;\n",
       "    }\n",
       "\n",
       "    .dataframe thead th {\n",
       "        text-align: right;\n",
       "    }\n",
       "</style>\n",
       "<table border=\"1\" class=\"dataframe\">\n",
       "  <thead>\n",
       "    <tr style=\"text-align: right;\">\n",
       "      <th></th>\n",
       "      <th>City</th>\n",
       "      <th>Country</th>\n",
       "      <th>Max Temp</th>\n",
       "      <th>Current Description</th>\n",
       "      <th>Lat</th>\n",
       "      <th>Lng</th>\n",
       "      <th>Hotel Name</th>\n",
       "    </tr>\n",
       "    <tr>\n",
       "      <th>City_ID</th>\n",
       "      <th></th>\n",
       "      <th></th>\n",
       "      <th></th>\n",
       "      <th></th>\n",
       "      <th></th>\n",
       "      <th></th>\n",
       "      <th></th>\n",
       "    </tr>\n",
       "  </thead>\n",
       "  <tbody>\n",
       "    <tr>\n",
       "      <th>57</th>\n",
       "      <td>Shuiji</td>\n",
       "      <td>CN</td>\n",
       "      <td>54.16</td>\n",
       "      <td>broken clouds</td>\n",
       "      <td>27.42</td>\n",
       "      <td>118.34</td>\n",
       "      <td>Century Hotel</td>\n",
       "    </tr>\n",
       "    <tr>\n",
       "      <th>280</th>\n",
       "      <td>Huilong</td>\n",
       "      <td>CN</td>\n",
       "      <td>47.28</td>\n",
       "      <td>overcast clouds</td>\n",
       "      <td>31.15</td>\n",
       "      <td>106.50</td>\n",
       "      <td>Huilong Hostel</td>\n",
       "    </tr>\n",
       "    <tr>\n",
       "      <th>525</th>\n",
       "      <td>Dongsheng</td>\n",
       "      <td>CN</td>\n",
       "      <td>45.39</td>\n",
       "      <td>overcast clouds</td>\n",
       "      <td>29.72</td>\n",
       "      <td>112.52</td>\n",
       "      <td>Xianghong Hotel</td>\n",
       "    </tr>\n",
       "    <tr>\n",
       "      <th>535</th>\n",
       "      <td>Enshi</td>\n",
       "      <td>CN</td>\n",
       "      <td>40.03</td>\n",
       "      <td>light rain</td>\n",
       "      <td>30.29</td>\n",
       "      <td>109.48</td>\n",
       "      <td>Moevenpick Enshi</td>\n",
       "    </tr>\n",
       "  </tbody>\n",
       "</table>\n",
       "</div>"
      ],
      "text/plain": [
       "              City Country  Max Temp Current Description    Lat     Lng  \\\n",
       "City_ID                                                                   \n",
       "57          Shuiji      CN     54.16       broken clouds  27.42  118.34   \n",
       "280        Huilong      CN     47.28     overcast clouds  31.15  106.50   \n",
       "525      Dongsheng      CN     45.39     overcast clouds  29.72  112.52   \n",
       "535          Enshi      CN     40.03          light rain  30.29  109.48   \n",
       "\n",
       "               Hotel Name  \n",
       "City_ID                    \n",
       "57          Century Hotel  \n",
       "280        Huilong Hostel  \n",
       "525       Xianghong Hotel  \n",
       "535      Moevenpick Enshi  "
      ]
     },
     "execution_count": 8,
     "metadata": {},
     "output_type": "execute_result"
    }
   ],
   "source": [
    "CNcities_df = vacationItinerary_df.loc[vacationItinerary_df[\"City\"].isin([\"Shuiji\",\"Dongsheng\",\"Huilong\",\"Enshi\"])]\n",
    "CNcities_df"
   ]
  },
  {
   "cell_type": "code",
   "execution_count": 9,
   "metadata": {},
   "outputs": [
    {
     "data": {
      "text/plain": [
       "[(27.42, 118.34), (31.15, 106.5), (29.72, 112.52), (30.29, 109.48)]"
      ]
     },
     "execution_count": 9,
     "metadata": {},
     "output_type": "execute_result"
    }
   ],
   "source": [
    "#create longtititue and latitude pairs \n",
    "CNcities_lng_lat = CNcities_df[[\"Lat\",\"Lng\"]]\n",
    "CNcitiesT = [tuple(x) for x in CNcities_lng_lat.values]\n",
    "CNcitiesT"
   ]
  },
  {
   "cell_type": "code",
   "execution_count": 10,
   "metadata": {},
   "outputs": [
    {
     "data": {
      "text/plain": [
       "[(27.42, 118.34)]"
      ]
     },
     "execution_count": 10,
     "metadata": {},
     "output_type": "execute_result"
    }
   ],
   "source": [
    "#create lat lng values for each city using tuple (1 of 4)\n",
    "\n",
    "Shuiji_lat_lng = Shuiji_df[[\"Lat\", \"Lng\"]]\n",
    "ShuijiT = [tuple(x) for x in Shuiji_lat_lng.values]\n",
    "ShuijiT"
   ]
  },
  {
   "cell_type": "code",
   "execution_count": 11,
   "metadata": {},
   "outputs": [
    {
     "data": {
      "text/plain": [
       "[(31.15, 106.5)]"
      ]
     },
     "execution_count": 11,
     "metadata": {},
     "output_type": "execute_result"
    }
   ],
   "source": [
    "#create lat lng values for each city using tuple (2 of 4)\n",
    "\n",
    "Huilong_lat_lng = Huilong_df[[\"Lat\", \"Lng\"]]\n",
    "HuilongT = [tuple(x) for x in Huilong_lat_lng.values]\n",
    "HuilongT"
   ]
  },
  {
   "cell_type": "code",
   "execution_count": 12,
   "metadata": {},
   "outputs": [
    {
     "data": {
      "text/plain": [
       "[(29.72, 112.52)]"
      ]
     },
     "execution_count": 12,
     "metadata": {},
     "output_type": "execute_result"
    }
   ],
   "source": [
    "#create lat lng values for each city using tuple (3 of 4)\n",
    "\n",
    "Dongsheng_lat_lng = Dongsheng_df[[\"Lat\", \"Lng\"]]\n",
    "DongshengT = [tuple(x) for x in Dongsheng_lat_lng.values]\n",
    "DongshengT"
   ]
  },
  {
   "cell_type": "code",
   "execution_count": 13,
   "metadata": {},
   "outputs": [
    {
     "data": {
      "text/plain": [
       "[(30.29, 109.48)]"
      ]
     },
     "execution_count": 13,
     "metadata": {},
     "output_type": "execute_result"
    }
   ],
   "source": [
    "#create lat lng values for each city using tuple (4 of 4)\n",
    "\n",
    "Enshi_lat_lng = Enshi_df[[\"Lat\", \"Lng\"]]\n",
    "EnshiT = [tuple(x) for x in Enshi_lat_lng.values]\n",
    "EnshiT"
   ]
  },
  {
   "cell_type": "code",
   "execution_count": 21,
   "metadata": {},
   "outputs": [
    {
     "data": {
      "application/vnd.jupyter.widget-view+json": {
       "model_id": "923431b0bb6c4c409e3e753b3d252951",
       "version_major": 2,
       "version_minor": 0
      },
      "text/plain": [
       "Figure(layout=FigureLayout(height='420px'))"
      ]
     },
     "metadata": {},
     "output_type": "display_data"
    }
   ],
   "source": [
    "#create a direction map\n",
    "\n",
    "#ShuijiD = Shuiji_df[[\"Lat\", \"Lng\"]].apply(tuple)\n",
    "#HuilongD = Huilong_df[[\"Lat\", \"Lng\"]].apply(tuple)\n",
    "#DongshengD = Dongsheng_df[[\"Lat\", \"Lng\"]].apply(tuple)\n",
    "#EnshiD = Enshi_df[[\"Lat\", \"Lng\"]].apply(tuple)\n",
    "\n",
    "ShuijiD = (27.42, 118.34)\n",
    "HuilongD = (31.15, 106.5)\n",
    "DongshengD = (29.72, 112.52)\n",
    "EnshiD = (30.29, 109.48)\n",
    "fig = gmaps.figure()\n",
    "#map the drive to the four picked cities \n",
    "driving_directions = gmaps.directions_layer(ShuijiD, HuilongD, waypoints=[DongshengD, EnshiD], travel_mode='DRIVING')\n",
    "fig.add_layer(driving_directions)\n",
    "fig"
   ]
  },
  {
   "cell_type": "code",
   "execution_count": 15,
   "metadata": {},
   "outputs": [],
   "source": [
    "info_box_template = \"\"\"\n",
    "<dl>\n",
    "<dt>Hotel Name</dt><dd>{Hotel Name}</dd>\n",
    "<dt>City</dt><dd>{City}</dd>\n",
    "<dt>Country</dt><dd>{Country}</dd>\n",
    "<dt>Max Temp</dt><dd>{Max Temp} °F</dd>\n",
    "</dl>\n",
    "\"\"\""
   ]
  },
  {
   "cell_type": "code",
   "execution_count": 16,
   "metadata": {},
   "outputs": [],
   "source": [
    "# Store the DataFrame Row.\n",
    "hotels = [info_box_template.format(**row) for index, row in CNcities_df.iterrows()]"
   ]
  },
  {
   "cell_type": "code",
   "execution_count": 17,
   "metadata": {},
   "outputs": [
    {
     "data": {
      "application/vnd.jupyter.widget-view+json": {
       "model_id": "026dacd002214de59ef6a72abe6a1314",
       "version_major": 2,
       "version_minor": 0
      },
      "text/plain": [
       "Figure(layout=FigureLayout(height='420px'))"
      ]
     },
     "metadata": {},
     "output_type": "display_data"
    }
   ],
   "source": [
    "#set the pop-up marker for each city in the vacation itinerary\n",
    "\n",
    "# Add a heatmap of temperature for the vacation spots and a pop-up marker for each city.\n",
    "locations = CNcities_df[[\"Lat\", \"Lng\"]]\n",
    "# max_temp = CNcities_df[\"Max Temp\"]\n",
    "fig = gmaps.figure(center=(30.0, 31.0), zoom_level=1.5)\n",
    "#heat_layer = gmaps.heatmap_layer(locations, weights=max_temp,dissipating=False,\n",
    "           #  max_intensity=300, point_radius=4)\n",
    "    \n",
    "info_box_template = \"\"\"\n",
    "<dl>\n",
    "<dt>Hotel Name</dt><dd>{Hotel Name}</dd>\n",
    "<dt>City</dt><dd>{City}</dd>\n",
    "<dt>Country</dt><dd>{Country}</dd>\n",
    "<dt>Max Temp</dt><dd>{Max Temp} °F</dd>\n",
    "</dl>\n",
    "\"\"\"\n",
    "\n",
    "# Store the DataFrame Row.\n",
    "# hotels = [info_box_template.format(**row) for index, row in CNcities_df.iterrows()]\n",
    "marker_layer = gmaps.marker_layer(locations, info_box_content= hotels)\n",
    "#fig.add_layer(heat_layer)\n",
    "fig.add_layer(marker_layer)\n",
    "\n",
    "# Call the figure to plot the data.\n",
    "fig"
   ]
  },
  {
   "cell_type": "code",
   "execution_count": null,
   "metadata": {},
   "outputs": [],
   "source": []
  }
 ],
 "metadata": {
  "kernelspec": {
   "display_name": "PythonData",
   "language": "python",
   "name": "pythondata"
  },
  "language_info": {
   "codemirror_mode": {
    "name": "ipython",
    "version": 3
   },
   "file_extension": ".py",
   "mimetype": "text/x-python",
   "name": "python",
   "nbconvert_exporter": "python",
   "pygments_lexer": "ipython3",
   "version": "3.7.5"
  }
 },
 "nbformat": 4,
 "nbformat_minor": 2
}
